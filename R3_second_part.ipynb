{
  "nbformat": 4,
  "nbformat_minor": 0,
  "metadata": {
    "colab": {
      "provenance": []
    },
    "kernelspec": {
      "name": "python3",
      "display_name": "Python 3"
    },
    "language_info": {
      "name": "python"
    }
  },
  "cells": [
    {
      "cell_type": "markdown",
      "source": [
        "**This notebook includes:**\n",
        "\n",
        "Part1:\n",
        "\n",
        "Cubic interpolation\n",
        "\n",
        "Part2:\n",
        "\n",
        "a) Fletcher-Reeves CG Method.\n",
        "\n",
        "b) Marquardt Method.\n",
        "\n",
        "c) Quasi-Newton Method.\n",
        "\n",
        "The rest of the methods are implemented using matlab"
      ],
      "metadata": {
        "id": "KkI_PHEpF86L"
      }
    },
    {
      "cell_type": "markdown",
      "source": [
        "imports"
      ],
      "metadata": {
        "id": "CtSxYAp6F529"
      }
    },
    {
      "cell_type": "code",
      "source": [
        "import math\n",
        "from scipy import optimize\n",
        "from autograd import grad, hessian\n",
        "import numpy as np"
      ],
      "metadata": {
        "id": "igXZ0e6CnPfs"
      },
      "execution_count": null,
      "outputs": []
    },
    {
      "cell_type": "markdown",
      "source": [
        "# **Cubic**"
      ],
      "metadata": {
        "id": "cyrFlTW9qSjz"
      }
    },
    {
      "cell_type": "code",
      "execution_count": null,
      "metadata": {
        "id": "bobYVbERlUlB"
      },
      "outputs": [],
      "source": [
        "def cubic(func, t, error=0.001):\n",
        "    df = grad(func)\n",
        "    A = 0\n",
        "    B = t\n",
        "\n",
        "    f_a = func(A)\n",
        "    df_a = df(float(A))\n",
        "    df_b = df(float(B))\n",
        "    df_lambda = math.inf\n",
        "\n",
        "    while df_b < 0:\n",
        "      B = 2*B\n",
        "      df_b = df(float(B))\n",
        "    f_b = func(B)\n",
        "    i = 0\n",
        "\n",
        "    while True:\n",
        "      if i > 0:\n",
        "        if df_lambda > 0:\n",
        "            B = lambda_star\n",
        "            f_b = func(B)\n",
        "            df_b = df_lambda\n",
        "        else:\n",
        "            A = lambda_star\n",
        "            f_a = func(A)\n",
        "            df_a = df_lambda\n",
        "\n",
        "      Z=3*(f_a-f_b)/(B-A)+df_a+df_b\n",
        "      Q=math.sqrt(Z**2-df_a*df_b)\n",
        "      lambda_star=A+(df_a+Z+Q)/(df_a+df_b+2*Z)*(B-A)\n",
        "\n",
        "      if lambda_star < 0:\n",
        "        lambda_star = A + (df_a+Z-Q)/(df_a+df_b+2*Z)*(B-A)\n",
        "\n",
        "      df_lambda = df(float(lambda_star))\n",
        "      #i += 1\n",
        "      if abs(df_lambda) <= error:\n",
        "        break\n",
        "\n",
        "    return lambda_star,func(lambda_star)"
      ]
    },
    {
      "cell_type": "code",
      "source": [
        "Function = lambda x:  x**5 - 5*x**3 - 20*x +5\n",
        "t = 0.25\n",
        "error = 0.001"
      ],
      "metadata": {
        "id": "9fqxIpxpopcp"
      },
      "execution_count": null,
      "outputs": []
    },
    {
      "cell_type": "code",
      "source": [
        "lambda_star,value = cubic(Function, t, error)\n",
        "print(\"X \"\"(optimum solution) is\")\n",
        "print(lambda_star)\n",
        "print(\"optimum function value is:\")\n",
        "print(value)"
      ],
      "metadata": {
        "colab": {
          "base_uri": "https://localhost:8080/"
        },
        "id": "uxh9W-hpn_Lg",
        "outputId": "0e038c14-eb96-4b0a-fa91-393cafaabe8a"
      },
      "execution_count": null,
      "outputs": [
        {
          "output_type": "stream",
          "name": "stdout",
          "text": [
            "X (optimum solution) is\n",
            "2.0\n",
            "optimum function value is:\n",
            "-43.0\n"
          ]
        }
      ]
    },
    {
      "cell_type": "code",
      "source": [
        "print(\"Python function:\")\n",
        "print(optimize.minimize_scalar(Function))"
      ],
      "metadata": {
        "colab": {
          "base_uri": "https://localhost:8080/"
        },
        "id": "1PQ2kyJeokFm",
        "outputId": "2023c1e8-b252-4e56-c3a2-ed136d49ca8d"
      },
      "execution_count": null,
      "outputs": [
        {
          "output_type": "stream",
          "name": "stdout",
          "text": [
            "Python function:\n",
            " message: \n",
            "          Optimization terminated successfully;\n",
            "          The returned value satisfies the termination criteria\n",
            "          (using xtol = 1.48e-08 )\n",
            " success: True\n",
            "     fun: -42.99999999999999\n",
            "       x: 2.0000000140627363\n",
            "     nit: 9\n",
            "    nfev: 12\n"
          ]
        }
      ]
    },
    {
      "cell_type": "markdown",
      "source": [
        "# **Part 2**"
      ],
      "metadata": {
        "id": "UD9EywMEFPxg"
      }
    },
    {
      "cell_type": "markdown",
      "source": [
        "a) Fletcher-Reeves CG Method.\n",
        "\n",
        "b) Marquardt Method.\n",
        "\n",
        "c) Quasi-Newton Method."
      ],
      "metadata": {
        "id": "UIrnGs4MskvD"
      }
    },
    {
      "cell_type": "markdown",
      "source": [
        "![image.png](data:image/png;base64,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)"
      ],
      "metadata": {
        "id": "YdeuJx__4x7V"
      }
    },
    {
      "cell_type": "markdown",
      "source": [
        "# **Fletcher reeves**"
      ],
      "metadata": {
        "id": "aMTKpjd0qXFB"
      }
    },
    {
      "cell_type": "code",
      "source": [
        "from scipy.optimize import minimize_scalar\n",
        "def fletcher_reeves(Function, x1, e):\n",
        "    s0=np.zeros(x1.shape[0])\n",
        "    gradf=grad(Function)\n",
        "    grad_f1 =gradf(x1, 0, s0)\n",
        "    s1= -grad_f1\n",
        "    i = 1\n",
        "    xi = x1\n",
        "    si = s1\n",
        "    grad_fi = grad_f1\n",
        "    #condition=np.linalg.norm(grad_fi)\n",
        "    while  np.linalg.norm(grad_fi) > e:\n",
        "        Problem = lambda lambda_sta: Function(xi,lambda_sta,si)\n",
        "        lambda_star = minimize_scalar(Problem, method='golden').x\n",
        "        xi1 = xi\n",
        "        xi = xi1 + lambda_star*si\n",
        "        gi = np.linalg.norm(gradf(xi, 0, s0))**2\n",
        "        gi1 = np.linalg.norm(gradf(xi1, 0, s0))**2\n",
        "        beta_i = gi/gi1\n",
        "        si1 = si\n",
        "        grad_fi = gradf(xi, 0, s0)\n",
        "        si=-1*grad_fi+beta_i*si1\n",
        "        i = i+1\n",
        "    fun=Function(xi, 0, s0)\n",
        "    print(f'Number of iterations is')\n",
        "    print(i-1)\n",
        "\n",
        "    return xi, fun\n"
      ],
      "metadata": {
        "id": "8v1xUgfrqjRq"
      },
      "execution_count": null,
      "outputs": []
    },
    {
      "cell_type": "markdown",
      "source": [
        "# **Marquardt**"
      ],
      "metadata": {
        "id": "7BhSzp9L-kuI"
      }
    },
    {
      "cell_type": "code",
      "source": [
        "def Marquardt(Function, x1, c1, c2,alpha,e):\n",
        "    s0=np.zeros(x1.shape[0])\n",
        "    gradf=grad(Function)\n",
        "    grad_f1 =gradf(x1, 0, s0)\n",
        "    A=hessian(Function)\n",
        "    I=np.identity(x1.shape[0])\n",
        "    s1=-1*np.dot(np.linalg.inv(A(x1, 0, s0)+I*alpha),grad_f1)\n",
        "    i = 1\n",
        "    xi = x1\n",
        "    si = s1\n",
        "    grad_fi=grad_f1\n",
        "    while np.linalg.norm(grad_fi) > e:\n",
        "        f_i1= Function(xi,0,s0)\n",
        "        Problem = lambda lambda_sta: Function(xi,lambda_sta,si)\n",
        "        lambda_star = minimize_scalar(Problem, method='golden').x\n",
        "        xi1 = xi\n",
        "        xi = xi1 + lambda_star*si\n",
        "        f_i2= Function(xi,0,s0)\n",
        "        if f_i1 > f_i2:\n",
        "            alpha = c1*alpha\n",
        "        else:\n",
        "            alpha = c2*alpha\n",
        "        grad_fi=gradf(xi, 0, s0)\n",
        "        si=-1*np.dot(np.linalg.inv(A(xi, 0, s0)+alpha*I),grad_fi )\n",
        "        i +=1\n",
        "\n",
        "    fun=Function(xi, 0, s0)\n",
        "    print(f'Number of iterations is')\n",
        "    print(i-1)\n",
        "\n",
        "    return xi, fun\n"
      ],
      "metadata": {
        "id": "EJ08YCRk67Wz"
      },
      "execution_count": null,
      "outputs": []
    },
    {
      "cell_type": "markdown",
      "source": [
        "# **Quasi_newton**"
      ],
      "metadata": {
        "id": "3TnF9uTWFT9I"
      }
    },
    {
      "cell_type": "code",
      "source": [
        "def Quasi_newton(Function, x1, e):\n",
        "    s0=np.zeros(x1.shape[0])\n",
        "    gradf=grad(Function)\n",
        "    grad_f1 =gradf(x1, 0, s0)\n",
        "    I=np.identity(x1.shape[0])\n",
        "    H1=I\n",
        "\n",
        "    Hi = H1\n",
        "    s1 =-np.dot(Hi,grad_f1)\n",
        "    i = 1\n",
        "    xi = x1\n",
        "    si = s1\n",
        "    grad_fi=grad_f1\n",
        "\n",
        "    while np.linalg.norm(grad_fi) > e:\n",
        "        fi= Function(xi,0,s0)\n",
        "        Problem = lambda lambda_sta: Function(xi,lambda_sta,si)\n",
        "        lambda_star = minimize_scalar(Problem, method='golden').x\n",
        "        xi1 = xi\n",
        "        xi = xi1 + lambda_star*si\n",
        "        grad_i1 = grad_fi\n",
        "        grad_fi = gradf(xi, 0, s0)\n",
        "        yi= grad_fi - grad_i1\n",
        "        S=xi-xi1\n",
        "        y_transpose=yi.T\n",
        "        S_transpose=S.T\n",
        "        t1 = I - np.outer(S,yi)/np.dot(y_transpose,S)\n",
        "        t2 = I - np.outer(yi,S)/np.dot(y_transpose,S)\n",
        "        t3 = np.dot(S,S_transpose)/np.dot(y_transpose,S)\n",
        "        Hi= np.dot(np.dot(t1, Hi), t2) + t3\n",
        "        si = -1*np.dot(Hi,grad_fi)\n",
        "        i += 1\n",
        "    fun=Function(xi, 0, s0)\n",
        "    print(f'Number of iterations is')\n",
        "    print(i-1)\n",
        "\n",
        "    return xi, fun"
      ],
      "metadata": {
        "id": "bH0zeb0Y6yK7"
      },
      "execution_count": null,
      "outputs": []
    },
    {
      "cell_type": "markdown",
      "source": [
        "# **Testing:**"
      ],
      "metadata": {
        "id": "MhAPn9Y7FWvQ"
      }
    },
    {
      "cell_type": "markdown",
      "source": [
        "![image.png](data:image/png;base64,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)"
      ],
      "metadata": {
        "id": "su5Q1BWlu0SX"
      }
    },
    {
      "cell_type": "code",
      "source": [
        "def Function(x,alpha,s):\n",
        "    return 100*((x[1]+alpha*s[1])-(x[0]+alpha*s[0])**2)**2 + (1-(x[0]+alpha*s[0]))**2"
      ],
      "metadata": {
        "id": "sp3LInr959wa"
      },
      "execution_count": null,
      "outputs": []
    },
    {
      "cell_type": "code",
      "source": [
        "import time\n",
        "\n",
        "\n",
        "x1 = np.array([-1.2, 1])\n",
        "e = 0.001\n",
        "\n",
        "\n",
        "# Fletcher-Revees Method\n",
        "print('-----------------------------------------------------')\n",
        "print(\"The Fletcher-Reeves CG Method.\")\n",
        "print('-----------------------------------------------------')\n",
        "t1 = time.time()\n",
        "Solution= fletcher_reeves(Function, x1, e)\n",
        "t = time.time()-t0\n",
        "print('\\n')\n",
        "print(f'The optimal solution is:')\n",
        "print(Solution[0])\n",
        "print('\\n')\n",
        "print(f'Solution Function Value:')\n",
        "print(Solution[1])\n",
        "print('\\n')\n",
        "print(f'CPU time is :')\n",
        "print(t)\n",
        "# Fletcher-Revees Method\n",
        "print('\\n')\n",
        "print('-----------------------------------------------------')\n",
        "print(\"Marquardt Method.\")\n",
        "print('-----------------------------------------------------')\n",
        "t1 = time.time()\n",
        "Solution= Marquardt(Function, x1, c1=0.5, c2=2,alpha=2e4, e=1e-3)\n",
        "t = time.time()-t0\n",
        "print('\\n')\n",
        "print(f'The optimal solution is:')\n",
        "print(Solution[0])\n",
        "print('\\n')\n",
        "print(f'Solution Function Value:')\n",
        "print(Solution[1])\n",
        "print('\\n')\n",
        "print(f'CPU time is :')\n",
        "print(t)\n",
        "# Fletcher-Revees Method\n",
        "\n",
        "print('\\n')\n",
        "print('-----------------------------------------------------')\n",
        "print(\"Quasi-Newton Method.\")\n",
        "print('-----------------------------------------------------')\n",
        "t1 = time.time()\n",
        "Solution= Quasi_newton(Function, x1, e)\n",
        "t = time.time()-t0\n",
        "print('\\n')\n",
        "print(f'The optimal solution is:')\n",
        "print(Solution[0])\n",
        "print('\\n')\n",
        "print(f'Solution Function Value:')\n",
        "print(Solution[1])\n",
        "print('\\n')\n",
        "print(f'CPU time is :')\n",
        "print(t)\n"
      ],
      "metadata": {
        "colab": {
          "base_uri": "https://localhost:8080/"
        },
        "id": "wCZiWxrou7C6",
        "outputId": "069b0037-f04c-4e3f-9157-b842e66c3153"
      },
      "execution_count": null,
      "outputs": [
        {
          "output_type": "stream",
          "name": "stdout",
          "text": [
            "-----------------------------------------------------\n",
            "The Fletcher-Reeves CG Method.\n",
            "-----------------------------------------------------\n",
            "Number of iterations is\n",
            "114\n",
            "\n",
            "\n",
            "The optimal solution is:\n",
            "[1.00020729 1.00041751]\n",
            "\n",
            "\n",
            "Solution Function Value:\n",
            "4.380354894594454e-08\n",
            "\n",
            "\n",
            "CPU time is :\n",
            "3525.1902842521667\n",
            "\n",
            "\n",
            "-----------------------------------------------------\n",
            "Marquardt Method.\n",
            "-----------------------------------------------------\n",
            "Number of iterations is\n",
            "19\n",
            "\n",
            "\n",
            "The optimal solution is:\n",
            "[1.00001608 1.00003394]\n",
            "\n",
            "\n",
            "Solution Function Value:\n",
            "5.724003474507518e-10\n",
            "\n",
            "\n",
            "CPU time is :\n",
            "3525.321063518524\n",
            "\n",
            "\n",
            "-----------------------------------------------------\n",
            "Quasi-Newton Method.\n",
            "-----------------------------------------------------\n",
            "Number of iterations is\n",
            "20\n",
            "\n",
            "\n",
            "The optimal solution is:\n",
            "[0.99998829 0.99997647]\n",
            "\n",
            "\n",
            "Solution Function Value:\n",
            "1.3837468296469095e-10\n",
            "\n",
            "\n",
            "CPU time is :\n",
            "3525.3665521144867\n"
          ]
        }
      ]
    },
    {
      "cell_type": "markdown",
      "source": [
        "![image.png](data:image/png;base64,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)"
      ],
      "metadata": {
        "id": "T9AYifCTCXYJ"
      }
    },
    {
      "cell_type": "code",
      "source": [
        "def Function(x,alpha,s):\n",
        "      #x1:x[0]+alpha*s[0]\n",
        "     #x2:x[1]+alpha*s[1]\n",
        "     #x3:x[2]+alpha*s[2]\n",
        "     #x4:x[3]+alpha*s[3])\n",
        "     return ((x[0]+alpha*s[0])+(10*(x[1]+alpha*s[1])))**2 + 5*((x[2]+alpha*s[2])-(x[3]+alpha*s[3]))**2 +((x[1]+alpha*s[1])-2*(x[2]+alpha*s[2]))**4+ 10*((x[0]+alpha*s[0])-(x[3]+alpha*s[3]))**4"
      ],
      "metadata": {
        "id": "dRgr2lyqCcrN"
      },
      "execution_count": null,
      "outputs": []
    },
    {
      "cell_type": "code",
      "source": [
        "import time\n",
        "\n",
        "\n",
        "x1 = np.array([3.0, -1.0, 0.0, 1.0])\n",
        "e = 0.001\n",
        "\n",
        "\n",
        "# Fletcher-Revees Method\n",
        "print('-----------------------------------------------------')\n",
        "print(\"The Fletcher-Reeves CG Method.\")\n",
        "print('-----------------------------------------------------')\n",
        "t1 = time.time()\n",
        "Solution= fletcher_reeves(Function, x1, e)\n",
        "t = time.time()-t0\n",
        "print('\\n')\n",
        "print(f'The optimal solution is:')\n",
        "print(Solution[0])\n",
        "print('\\n')\n",
        "print(f'Solution Function Value:')\n",
        "print(Solution[1])\n",
        "print('\\n')\n",
        "print(f'CPU time is :')\n",
        "print(t)\n",
        "# Fletcher-Revees Method\n",
        "print('\\n')\n",
        "print('-----------------------------------------------------')\n",
        "print(\"Marquardt Method.\")\n",
        "print('-----------------------------------------------------')\n",
        "t1 = time.time()\n",
        "Solution= Marquardt(Function, x1, c1=0.5, c2=2,alpha=2e4, e=1e-3)\n",
        "t = time.time()-t0\n",
        "print('\\n')\n",
        "print(f'The optimal solution is:')\n",
        "print(Solution[0])\n",
        "print('\\n')\n",
        "print(f'Solution Function Value:')\n",
        "print(Solution[1])\n",
        "print('\\n')\n",
        "print(f'CPU time is :')\n",
        "print(t)\n",
        "# Fletcher-Revees Method\n",
        "\n",
        "print('\\n')\n",
        "print('-----------------------------------------------------')\n",
        "print(\"Quasi-Newton Method.\")\n",
        "print('-----------------------------------------------------')\n",
        "t1 = time.time()\n",
        "Solution= Quasi_newton(Function, x1, e)\n",
        "t = time.time()-t0\n",
        "print('\\n')\n",
        "print(f'The optimal solution is:')\n",
        "print(Solution[0])\n",
        "print('\\n')\n",
        "print(f'Solution Function Value:')\n",
        "print(Solution[1])\n",
        "print('\\n')\n",
        "print(f'CPU time is :')\n",
        "print(t)\n"
      ],
      "metadata": {
        "colab": {
          "base_uri": "https://localhost:8080/"
        },
        "id": "IeC3cUmbCYmR",
        "outputId": "c0442837-a9a2-4fd5-d053-d8241674a33a"
      },
      "execution_count": null,
      "outputs": [
        {
          "output_type": "stream",
          "name": "stdout",
          "text": [
            "-----------------------------------------------------\n",
            "The Fletcher-Reeves CG Method.\n",
            "-----------------------------------------------------\n",
            "Number of iterations is\n",
            "159\n",
            "\n",
            "\n",
            "The optimal solution is:\n",
            "[ 0.02625296 -0.00262915  0.01322802  0.01326136]\n",
            "\n",
            "\n",
            "Solution Function Value:\n",
            "1.0075409195853434e-06\n",
            "\n",
            "\n",
            "CPU time is :\n",
            "3526.360357761383\n",
            "\n",
            "\n",
            "-----------------------------------------------------\n",
            "Marquardt Method.\n",
            "-----------------------------------------------------\n",
            "Number of iterations is\n",
            "25\n",
            "\n",
            "\n",
            "The optimal solution is:\n",
            "[ 0.00715196 -0.00071912  0.00356361  0.00356377]\n",
            "\n",
            "\n",
            "Solution Function Value:\n",
            "6.988409484158134e-09\n",
            "\n",
            "\n",
            "CPU time is :\n",
            "3526.8572397232056\n",
            "\n",
            "\n",
            "-----------------------------------------------------\n",
            "Quasi-Newton Method.\n",
            "-----------------------------------------------------\n",
            "Number of iterations is\n",
            "24\n",
            "\n",
            "\n",
            "The optimal solution is:\n",
            "[-0.0035206   0.00035138 -0.00825869 -0.00829964]\n",
            "\n",
            "\n",
            "Solution Function Value:\n",
            "9.461870067401848e-08\n",
            "\n",
            "\n",
            "CPU time is :\n",
            "3526.986481189728\n"
          ]
        }
      ]
    }
  ]
}